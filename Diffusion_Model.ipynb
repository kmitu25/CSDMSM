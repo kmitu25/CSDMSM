{
 "cells": [
  {
   "cell_type": "markdown",
   "id": "e264cb2a-8807-4380-b283-a554341fc135",
   "metadata": {},
   "source": [
    "# A 1D Diffusion Model"
   ]
  },
  {
   "cell_type": "markdown",
   "id": "1efd8fcf-cb1f-4ce3-8839-2a2f81f7d6c5",
   "metadata": {},
   "source": [
    "Here we develop a one-dimensional model of diffusion.\n",
    "It assumes a constant diffusivity\n",
    "It uses a regular grid\n",
    "It has a step function for an initial condition.\n",
    "It has  fixed boundary conditions."
   ]
  },
  {
   "cell_type": "markdown",
   "id": "2c905492-2265-4519-9c65-1b24dc53e0f3",
   "metadata": {},
   "source": [
    "Here is the diffusion equation:"
   ]
  },
  {
   "cell_type": "markdown",
   "id": "9c2abab2-8e3f-47d0-a322-a50fb2e76bf0",
   "metadata": {},
   "source": [
    "$$ \\frac{\\partial C}{\\partial t} = D\\frac{\\partial^2 C}{\\partial x^2} $$\n",
    "\n"
   ]
  },
  {
   "cell_type": "markdown",
   "id": "6c2fae5a-3406-4eb6-bfb2-b782f31e7066",
   "metadata": {},
   "source": [
    "Here is the  discretized version of the diffusion equation we will solve with our model"
   ]
  },
  {
   "cell_type": "markdown",
   "id": "b2583fd9-b7ce-48c6-a0b6-b3a89e43c66f",
   "metadata": {},
   "source": [
    "$$ C^{t+1}_x = C^t_x + {D \\Delta t \\over \\Delta x^2} (C^t_{x+1} - 2C^t_x + C^t_{x-1}) $$"
   ]
  },
  {
   "cell_type": "markdown",
   "id": "cab389f5-7b0b-4ce2-b3b3-066a6e4d5da3",
   "metadata": {},
   "source": [
    "This is the FTCS scheme as described by Slingerland and kump (2011)"
   ]
  },
  {
   "cell_type": "markdown",
   "id": "4f69856c-f444-4042-8ac8-4d296edbea74",
   "metadata": {},
   "source": [
    "We will use two libraries, Numpy (for arrays) and matplotlib (fro plotting), that are not a part of the core python distribution."
   ]
  },
  {
   "cell_type": "code",
   "execution_count": 1,
   "id": "2b72f627-68fa-43e9-a747-d9f2dd2ad3a2",
   "metadata": {},
   "outputs": [],
   "source": [
    "import numpy as np\n",
    "import matplotlib.pyplot as plt"
   ]
  },
  {
   "cell_type": "markdown",
   "id": "61788264-6ac5-4c7a-b51d-c37ccbd07fa0",
   "metadata": {},
   "source": [
    "Start by setting two fixed model parameters, the diffusivity and the size of the model domain."
   ]
  },
  {
   "cell_type": "code",
   "execution_count": 2,
   "id": "c2a1d1c0-67f4-40d4-9f9b-9e8b139349d2",
   "metadata": {},
   "outputs": [],
   "source": [
    "D=100\n",
    "Lx=300"
   ]
  },
  {
   "cell_type": "markdown",
   "id": "e98acc14-ada3-439c-b976-3faa9e8eac31",
   "metadata": {},
   "source": [
    "Next, set up the model using a numpy array"
   ]
  },
  {
   "cell_type": "code",
   "execution_count": 3,
   "id": "f2d3118d-7a28-4d5b-9389-f20a975f1ced",
   "metadata": {},
   "outputs": [],
   "source": [
    "dx=0.5\n",
    "x=np.arange(start=0, stop=Lx, step=dx)\n",
    "nx=len(x)"
   ]
  },
  {
   "cell_type": "code",
   "execution_count": 4,
   "id": "2b553b60-0832-49f7-9dc0-fe425b85c3d5",
   "metadata": {},
   "outputs": [
    {
     "data": {
      "text/plain": [
       "600"
      ]
     },
     "execution_count": 4,
     "metadata": {},
     "output_type": "execute_result"
    }
   ],
   "source": [
    "nx"
   ]
  },
  {
   "cell_type": "code",
   "execution_count": 5,
   "id": "3bab870d-1ce5-4a71-a11d-2158e4f35ff6",
   "metadata": {},
   "outputs": [
    {
     "data": {
      "text/plain": [
       "array([  0. ,   0.5,   1. ,   1.5,   2. ,   2.5,   3. ,   3.5,   4. ,\n",
       "         4.5,   5. ,   5.5,   6. ,   6.5,   7. ,   7.5,   8. ,   8.5,\n",
       "         9. ,   9.5,  10. ,  10.5,  11. ,  11.5,  12. ,  12.5,  13. ,\n",
       "        13.5,  14. ,  14.5,  15. ,  15.5,  16. ,  16.5,  17. ,  17.5,\n",
       "        18. ,  18.5,  19. ,  19.5,  20. ,  20.5,  21. ,  21.5,  22. ,\n",
       "        22.5,  23. ,  23.5,  24. ,  24.5,  25. ,  25.5,  26. ,  26.5,\n",
       "        27. ,  27.5,  28. ,  28.5,  29. ,  29.5,  30. ,  30.5,  31. ,\n",
       "        31.5,  32. ,  32.5,  33. ,  33.5,  34. ,  34.5,  35. ,  35.5,\n",
       "        36. ,  36.5,  37. ,  37.5,  38. ,  38.5,  39. ,  39.5,  40. ,\n",
       "        40.5,  41. ,  41.5,  42. ,  42.5,  43. ,  43.5,  44. ,  44.5,\n",
       "        45. ,  45.5,  46. ,  46.5,  47. ,  47.5,  48. ,  48.5,  49. ,\n",
       "        49.5,  50. ,  50.5,  51. ,  51.5,  52. ,  52.5,  53. ,  53.5,\n",
       "        54. ,  54.5,  55. ,  55.5,  56. ,  56.5,  57. ,  57.5,  58. ,\n",
       "        58.5,  59. ,  59.5,  60. ,  60.5,  61. ,  61.5,  62. ,  62.5,\n",
       "        63. ,  63.5,  64. ,  64.5,  65. ,  65.5,  66. ,  66.5,  67. ,\n",
       "        67.5,  68. ,  68.5,  69. ,  69.5,  70. ,  70.5,  71. ,  71.5,\n",
       "        72. ,  72.5,  73. ,  73.5,  74. ,  74.5,  75. ,  75.5,  76. ,\n",
       "        76.5,  77. ,  77.5,  78. ,  78.5,  79. ,  79.5,  80. ,  80.5,\n",
       "        81. ,  81.5,  82. ,  82.5,  83. ,  83.5,  84. ,  84.5,  85. ,\n",
       "        85.5,  86. ,  86.5,  87. ,  87.5,  88. ,  88.5,  89. ,  89.5,\n",
       "        90. ,  90.5,  91. ,  91.5,  92. ,  92.5,  93. ,  93.5,  94. ,\n",
       "        94.5,  95. ,  95.5,  96. ,  96.5,  97. ,  97.5,  98. ,  98.5,\n",
       "        99. ,  99.5, 100. , 100.5, 101. , 101.5, 102. , 102.5, 103. ,\n",
       "       103.5, 104. , 104.5, 105. , 105.5, 106. , 106.5, 107. , 107.5,\n",
       "       108. , 108.5, 109. , 109.5, 110. , 110.5, 111. , 111.5, 112. ,\n",
       "       112.5, 113. , 113.5, 114. , 114.5, 115. , 115.5, 116. , 116.5,\n",
       "       117. , 117.5, 118. , 118.5, 119. , 119.5, 120. , 120.5, 121. ,\n",
       "       121.5, 122. , 122.5, 123. , 123.5, 124. , 124.5, 125. , 125.5,\n",
       "       126. , 126.5, 127. , 127.5, 128. , 128.5, 129. , 129.5, 130. ,\n",
       "       130.5, 131. , 131.5, 132. , 132.5, 133. , 133.5, 134. , 134.5,\n",
       "       135. , 135.5, 136. , 136.5, 137. , 137.5, 138. , 138.5, 139. ,\n",
       "       139.5, 140. , 140.5, 141. , 141.5, 142. , 142.5, 143. , 143.5,\n",
       "       144. , 144.5, 145. , 145.5, 146. , 146.5, 147. , 147.5, 148. ,\n",
       "       148.5, 149. , 149.5, 150. , 150.5, 151. , 151.5, 152. , 152.5,\n",
       "       153. , 153.5, 154. , 154.5, 155. , 155.5, 156. , 156.5, 157. ,\n",
       "       157.5, 158. , 158.5, 159. , 159.5, 160. , 160.5, 161. , 161.5,\n",
       "       162. , 162.5, 163. , 163.5, 164. , 164.5, 165. , 165.5, 166. ,\n",
       "       166.5, 167. , 167.5, 168. , 168.5, 169. , 169.5, 170. , 170.5,\n",
       "       171. , 171.5, 172. , 172.5, 173. , 173.5, 174. , 174.5, 175. ,\n",
       "       175.5, 176. , 176.5, 177. , 177.5, 178. , 178.5, 179. , 179.5,\n",
       "       180. , 180.5, 181. , 181.5, 182. , 182.5, 183. , 183.5, 184. ,\n",
       "       184.5, 185. , 185.5, 186. , 186.5, 187. , 187.5, 188. , 188.5,\n",
       "       189. , 189.5, 190. , 190.5, 191. , 191.5, 192. , 192.5, 193. ,\n",
       "       193.5, 194. , 194.5, 195. , 195.5, 196. , 196.5, 197. , 197.5,\n",
       "       198. , 198.5, 199. , 199.5, 200. , 200.5, 201. , 201.5, 202. ,\n",
       "       202.5, 203. , 203.5, 204. , 204.5, 205. , 205.5, 206. , 206.5,\n",
       "       207. , 207.5, 208. , 208.5, 209. , 209.5, 210. , 210.5, 211. ,\n",
       "       211.5, 212. , 212.5, 213. , 213.5, 214. , 214.5, 215. , 215.5,\n",
       "       216. , 216.5, 217. , 217.5, 218. , 218.5, 219. , 219.5, 220. ,\n",
       "       220.5, 221. , 221.5, 222. , 222.5, 223. , 223.5, 224. , 224.5,\n",
       "       225. , 225.5, 226. , 226.5, 227. , 227.5, 228. , 228.5, 229. ,\n",
       "       229.5, 230. , 230.5, 231. , 231.5, 232. , 232.5, 233. , 233.5,\n",
       "       234. , 234.5, 235. , 235.5, 236. , 236.5, 237. , 237.5, 238. ,\n",
       "       238.5, 239. , 239.5, 240. , 240.5, 241. , 241.5, 242. , 242.5,\n",
       "       243. , 243.5, 244. , 244.5, 245. , 245.5, 246. , 246.5, 247. ,\n",
       "       247.5, 248. , 248.5, 249. , 249.5, 250. , 250.5, 251. , 251.5,\n",
       "       252. , 252.5, 253. , 253.5, 254. , 254.5, 255. , 255.5, 256. ,\n",
       "       256.5, 257. , 257.5, 258. , 258.5, 259. , 259.5, 260. , 260.5,\n",
       "       261. , 261.5, 262. , 262.5, 263. , 263.5, 264. , 264.5, 265. ,\n",
       "       265.5, 266. , 266.5, 267. , 267.5, 268. , 268.5, 269. , 269.5,\n",
       "       270. , 270.5, 271. , 271.5, 272. , 272.5, 273. , 273.5, 274. ,\n",
       "       274.5, 275. , 275.5, 276. , 276.5, 277. , 277.5, 278. , 278.5,\n",
       "       279. , 279.5, 280. , 280.5, 281. , 281.5, 282. , 282.5, 283. ,\n",
       "       283.5, 284. , 284.5, 285. , 285.5, 286. , 286.5, 287. , 287.5,\n",
       "       288. , 288.5, 289. , 289.5, 290. , 290.5, 291. , 291.5, 292. ,\n",
       "       292.5, 293. , 293.5, 294. , 294.5, 295. , 295.5, 296. , 296.5,\n",
       "       297. , 297.5, 298. , 298.5, 299. , 299.5])"
      ]
     },
     "execution_count": 5,
     "metadata": {},
     "output_type": "execute_result"
    }
   ],
   "source": [
    "x"
   ]
  },
  {
   "cell_type": "code",
   "execution_count": 6,
   "id": "06abbcd2-dd0b-4556-b8fe-ed1c2743de04",
   "metadata": {},
   "outputs": [],
   "source": [
    "#x[0]"
   ]
  },
  {
   "cell_type": "code",
   "execution_count": 7,
   "id": "43dbde08-9904-4686-bb56-2ae6b8c04b7b",
   "metadata": {},
   "outputs": [],
   "source": [
    "#x[1]"
   ]
  },
  {
   "cell_type": "markdown",
   "id": "fff3e8dd-94ce-4cec-97f6-4ab13c43560e",
   "metadata": {},
   "source": [
    "To get last element its negative -1 and for the second last it is -2"
   ]
  },
  {
   "cell_type": "code",
   "execution_count": 8,
   "id": "32cfa413-c4e5-4ceb-9f44-a1b6bb5d9919",
   "metadata": {},
   "outputs": [],
   "source": [
    "#x[-1]"
   ]
  },
  {
   "cell_type": "code",
   "execution_count": 9,
   "id": "836cc254-187e-4540-b731-50e17f63ffbc",
   "metadata": {},
   "outputs": [],
   "source": [
    "#x[-2]"
   ]
  },
  {
   "cell_type": "markdown",
   "id": "3cc69433-d3e7-4511-a6c0-c5b26d7a5946",
   "metadata": {},
   "source": [
    "To get first 5 elements"
   ]
  },
  {
   "cell_type": "code",
   "execution_count": 10,
   "id": "ad91b4c3-5a68-415f-beaf-16cf557e80de",
   "metadata": {},
   "outputs": [],
   "source": [
    "#x[0:4]"
   ]
  },
  {
   "cell_type": "markdown",
   "id": "bd94ccf8-bef8-40d0-9a59-c5010f75729b",
   "metadata": {},
   "source": [
    "python is inclusive in left side but exclusive in right side, so if i want to get first 5 I need to use o:5"
   ]
  },
  {
   "cell_type": "code",
   "execution_count": 11,
   "id": "d87ab5db-3ad2-4b53-8026-1f0fa0dda2d1",
   "metadata": {},
   "outputs": [],
   "source": [
    "#x[0:5]"
   ]
  },
  {
   "cell_type": "code",
   "execution_count": 12,
   "id": "fed3c829-618f-4047-b445-bcd337b44c3a",
   "metadata": {},
   "outputs": [],
   "source": [
    "#x[-5:]"
   ]
  },
  {
   "cell_type": "markdown",
   "id": "36be05ad-5c9c-416a-ab33-278d2101b89a",
   "metadata": {},
   "source": [
    "Now back to model. Set the initial conditions for the model.\n",
    "The cake 'C' is a step function with a high value of the left, a low value on the right, and a step at the center of the domain."
   ]
  },
  {
   "cell_type": "code",
   "execution_count": 13,
   "id": "c6c64308-07fd-4640-9048-369557d97295",
   "metadata": {},
   "outputs": [],
   "source": [
    "C = np.zeros_like(x)\n",
    "C_left = 500\n",
    "C_right = 0\n",
    "C[x<=Lx/2] = C_left\n",
    "C[x>Lx/2] = C_right"
   ]
  },
  {
   "cell_type": "code",
   "execution_count": 14,
   "id": "d796867e-212a-4738-aa21-76a2c40826a5",
   "metadata": {},
   "outputs": [
    {
     "data": {
      "text/plain": [
       "array([500., 500., 500., 500., 500., 500., 500., 500., 500., 500., 500.,\n",
       "       500., 500., 500., 500., 500., 500., 500., 500., 500., 500., 500.,\n",
       "       500., 500., 500., 500., 500., 500., 500., 500., 500., 500., 500.,\n",
       "       500., 500., 500., 500., 500., 500., 500., 500., 500., 500., 500.,\n",
       "       500., 500., 500., 500., 500., 500., 500., 500., 500., 500., 500.,\n",
       "       500., 500., 500., 500., 500., 500., 500., 500., 500., 500., 500.,\n",
       "       500., 500., 500., 500., 500., 500., 500., 500., 500., 500., 500.,\n",
       "       500., 500., 500., 500., 500., 500., 500., 500., 500., 500., 500.,\n",
       "       500., 500., 500., 500., 500., 500., 500., 500., 500., 500., 500.,\n",
       "       500., 500., 500., 500., 500., 500., 500., 500., 500., 500., 500.,\n",
       "       500., 500., 500., 500., 500., 500., 500., 500., 500., 500., 500.,\n",
       "       500., 500., 500., 500., 500., 500., 500., 500., 500., 500., 500.,\n",
       "       500., 500., 500., 500., 500., 500., 500., 500., 500., 500., 500.,\n",
       "       500., 500., 500., 500., 500., 500., 500., 500., 500., 500., 500.,\n",
       "       500., 500., 500., 500., 500., 500., 500., 500., 500., 500., 500.,\n",
       "       500., 500., 500., 500., 500., 500., 500., 500., 500., 500., 500.,\n",
       "       500., 500., 500., 500., 500., 500., 500., 500., 500., 500., 500.,\n",
       "       500., 500., 500., 500., 500., 500., 500., 500., 500., 500., 500.,\n",
       "       500., 500., 500., 500., 500., 500., 500., 500., 500., 500., 500.,\n",
       "       500., 500., 500., 500., 500., 500., 500., 500., 500., 500., 500.,\n",
       "       500., 500., 500., 500., 500., 500., 500., 500., 500., 500., 500.,\n",
       "       500., 500., 500., 500., 500., 500., 500., 500., 500., 500., 500.,\n",
       "       500., 500., 500., 500., 500., 500., 500., 500., 500., 500., 500.,\n",
       "       500., 500., 500., 500., 500., 500., 500., 500., 500., 500., 500.,\n",
       "       500., 500., 500., 500., 500., 500., 500., 500., 500., 500., 500.,\n",
       "       500., 500., 500., 500., 500., 500., 500., 500., 500., 500., 500.,\n",
       "       500., 500., 500., 500., 500., 500., 500., 500., 500., 500., 500.,\n",
       "       500., 500., 500., 500.,   0.,   0.,   0.,   0.,   0.,   0.,   0.,\n",
       "         0.,   0.,   0.,   0.,   0.,   0.,   0.,   0.,   0.,   0.,   0.,\n",
       "         0.,   0.,   0.,   0.,   0.,   0.,   0.,   0.,   0.,   0.,   0.,\n",
       "         0.,   0.,   0.,   0.,   0.,   0.,   0.,   0.,   0.,   0.,   0.,\n",
       "         0.,   0.,   0.,   0.,   0.,   0.,   0.,   0.,   0.,   0.,   0.,\n",
       "         0.,   0.,   0.,   0.,   0.,   0.,   0.,   0.,   0.,   0.,   0.,\n",
       "         0.,   0.,   0.,   0.,   0.,   0.,   0.,   0.,   0.,   0.,   0.,\n",
       "         0.,   0.,   0.,   0.,   0.,   0.,   0.,   0.,   0.,   0.,   0.,\n",
       "         0.,   0.,   0.,   0.,   0.,   0.,   0.,   0.,   0.,   0.,   0.,\n",
       "         0.,   0.,   0.,   0.,   0.,   0.,   0.,   0.,   0.,   0.,   0.,\n",
       "         0.,   0.,   0.,   0.,   0.,   0.,   0.,   0.,   0.,   0.,   0.,\n",
       "         0.,   0.,   0.,   0.,   0.,   0.,   0.,   0.,   0.,   0.,   0.,\n",
       "         0.,   0.,   0.,   0.,   0.,   0.,   0.,   0.,   0.,   0.,   0.,\n",
       "         0.,   0.,   0.,   0.,   0.,   0.,   0.,   0.,   0.,   0.,   0.,\n",
       "         0.,   0.,   0.,   0.,   0.,   0.,   0.,   0.,   0.,   0.,   0.,\n",
       "         0.,   0.,   0.,   0.,   0.,   0.,   0.,   0.,   0.,   0.,   0.,\n",
       "         0.,   0.,   0.,   0.,   0.,   0.,   0.,   0.,   0.,   0.,   0.,\n",
       "         0.,   0.,   0.,   0.,   0.,   0.,   0.,   0.,   0.,   0.,   0.,\n",
       "         0.,   0.,   0.,   0.,   0.,   0.,   0.,   0.,   0.,   0.,   0.,\n",
       "         0.,   0.,   0.,   0.,   0.,   0.,   0.,   0.,   0.,   0.,   0.,\n",
       "         0.,   0.,   0.,   0.,   0.,   0.,   0.,   0.,   0.,   0.,   0.,\n",
       "         0.,   0.,   0.,   0.,   0.,   0.,   0.,   0.,   0.,   0.,   0.,\n",
       "         0.,   0.,   0.,   0.,   0.,   0.,   0.,   0.,   0.,   0.,   0.,\n",
       "         0.,   0.,   0.,   0.,   0.,   0.,   0.,   0.,   0.,   0.,   0.,\n",
       "         0.,   0.,   0.,   0.,   0.,   0.,   0.,   0.,   0.,   0.,   0.,\n",
       "         0.,   0.,   0.,   0.,   0.,   0.,   0.,   0.,   0.,   0.,   0.,\n",
       "         0.,   0.,   0.,   0.,   0.,   0.,   0.,   0.,   0.,   0.,   0.,\n",
       "         0.,   0.,   0.,   0.,   0.,   0.])"
      ]
     },
     "execution_count": 14,
     "metadata": {},
     "output_type": "execute_result"
    }
   ],
   "source": [
    "C"
   ]
  },
  {
   "cell_type": "markdown",
   "id": "485f2e78-4f77-4b2d-b5b9-836c1bda8d15",
   "metadata": {},
   "source": [
    "Plot the initial profile"
   ]
  },
  {
   "cell_type": "code",
   "execution_count": 15,
   "id": "dc9e741f-c2f2-4a35-92bf-0b6709babc0b",
   "metadata": {},
   "outputs": [
    {
     "data": {
      "text/plain": [
       "Text(0.5, 1.0, 'initial Profile')"
      ]
     },
     "execution_count": 15,
     "metadata": {},
     "output_type": "execute_result"
    },
    {
     "data": {
      "image/png": "[encoded data removed]",
      "text/plain": [
       "<Figure size 640x480 with 1 Axes>"
      ]
     },
     "metadata": {},
     "output_type": "display_data"
    }
   ],
   "source": [
    "plt.figure()\n",
    "plt.plot(x, C, \"r\")\n",
    "plt.xlabel(\"x\")\n",
    "plt.ylabel(\"C\")\n",
    "plt.title(\"initial Profile\")"
   ]
  },
  {
   "cell_type": "markdown",
   "id": "f79f7ee6-d174-46ca-b1a2-236e6b964c44",
   "metadata": {},
   "source": [
    "Set the number of the time steps in the model.\n",
    "calculate a stable time step using a stability criterion."
   ]
  },
  {
   "cell_type": "code",
   "execution_count": 16,
   "id": "4f015d93-5ff1-4c15-a9b7-14024e17a763",
   "metadata": {},
   "outputs": [],
   "source": [
    "nt=5000\n",
    "dt=0.5*dx**2/D"
   ]
  },
  {
   "cell_type": "code",
   "execution_count": 17,
   "id": "44ddf565-98dd-4315-97af-bb3c9e18532b",
   "metadata": {},
   "outputs": [
    {
     "data": {
      "text/plain": [
       "0.00125"
      ]
     },
     "execution_count": 17,
     "metadata": {},
     "output_type": "execute_result"
    }
   ],
   "source": [
    "dt"
   ]
  },
  {
   "cell_type": "markdown",
   "id": "10639d43-e990-4245-8ae3-11f882f1b3c4",
   "metadata": {},
   "source": [
    "Loop over the time steps of the model. solving the difusion equation using the FTC scheme shown above\n",
    "Note the use of array operations on the variables 'C'. the boundary conditions remain fixed in each time step"
   ]
  },
  {
   "cell_type": "code",
   "execution_count": 18,
   "id": "772b6267-4454-43a5-aa01-59c38f8c209b",
   "metadata": {},
   "outputs": [],
   "source": [
    "for t in range(0, nt):\n",
    "\tC[1:-1] += D * dt / dx ** 2 * (C[:-2] - 2*C[1:-1] + C[2:])"
   ]
  },
  {
   "cell_type": "code",
   "execution_count": 19,
   "id": "7a9a309a-1df3-4a86-8201-a922317fa477",
   "metadata": {},
   "outputs": [],
   "source": [
    "#z=list(range(5))"
   ]
  },
  {
   "cell_type": "code",
   "execution_count": 20,
   "id": "a155af35-85e9-4fc4-8846-270ecd75270b",
   "metadata": {},
   "outputs": [],
   "source": [
    "#z"
   ]
  },
  {
   "cell_type": "code",
   "execution_count": 21,
   "id": "5b36746e-f93b-4cfe-9fa3-894d4ff3d29c",
   "metadata": {},
   "outputs": [],
   "source": [
    "#z[1:-1]"
   ]
  },
  {
   "cell_type": "code",
   "execution_count": 22,
   "id": "3618a910-7a45-45c2-82a8-29e3098c10bd",
   "metadata": {},
   "outputs": [],
   "source": [
    "#z[:-2]"
   ]
  },
  {
   "cell_type": "code",
   "execution_count": 23,
   "id": "ca77e2f4-cb4b-49e5-8f61-898aa1f05b90",
   "metadata": {},
   "outputs": [],
   "source": [
    "#z[2:]"
   ]
  },
  {
   "cell_type": "markdown",
   "id": "3186d3b7-853a-47de-a039-d1de30c367d5",
   "metadata": {},
   "source": [
    "plot the result"
   ]
  },
  {
   "cell_type": "code",
   "execution_count": 24,
   "id": "9beb0136-41b9-41a5-b51a-d86101e4a1c7",
   "metadata": {},
   "outputs": [
    {
     "data": {
      "text/plain": [
       "Text(0.5, 1.0, 'Final Profile')"
      ]
     },
     "execution_count": 24,
     "metadata": {},
     "output_type": "execute_result"
    },
    {
     "data": {
      "image/png": "[encoded data removed]",
      "text/plain": [
       "<Figure size 640x480 with 1 Axes>"
      ]
     },
     "metadata": {},
     "output_type": "display_data"
    }
   ],
   "source": [
    "plt.plot(x, C, \"b\")\n",
    "plt.xlabel(\"x\")\n",
    "plt.ylabel(\"C\")\n",
    "plt.title(\"Final Profile\")"
   ]
  },
  {
   "cell_type": "code",
   "execution_count": null,
   "id": "d0528834-c55b-4ad9-818d-b69c5ab70918",
   "metadata": {},
   "outputs": [],
   "source": []
  }
 ],
 "metadata": {
  "kernelspec": {
   "display_name": "Ivy",
   "language": "python",
   "name": "ivy"
  },
  "language_info": {
   "codemirror_mode": {
    "name": "ipython",
    "version": 3
   },
   "file_extension": ".py",
   "mimetype": "text/x-python",
   "name": "python",
   "nbconvert_exporter": "python",
   "pygments_lexer": "ipython3",
   "version": "3.13.3"
  }
 },
 "nbformat": 4,
 "nbformat_minor": 5
}
